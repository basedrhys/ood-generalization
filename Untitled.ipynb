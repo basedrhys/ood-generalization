{
 "cells": [
  {
   "cell_type": "code",
   "execution_count": 1,
   "id": "f0e5b836-308a-4f5a-8959-5b2b950d8542",
   "metadata": {},
   "outputs": [],
   "source": [
    "import pandas as pd"
   ]
  },
  {
   "cell_type": "code",
   "execution_count": 6,
   "id": "4c399e7b-1109-48c3-ae0e-c54b0cfdc750",
   "metadata": {},
   "outputs": [
    {
     "data": {
      "text/plain": [
       "['/scratch/rc4499/thesis/ood-generalization/csv/padchest.csv',\n",
       " '/scratch/rc4499/thesis/ood-generalization/csv/chestxray8.csv',\n",
       " '/scratch/rc4499/thesis/ood-generalization/csv/chexpert3.csv',\n",
       " '/scratch/rc4499/thesis/ood-generalization/csv/mimic3.csv',\n",
       " '/scratch/rc4499/thesis/ood-generalization/csv/chexpert2.csv',\n",
       " '/scratch/rc4499/thesis/ood-generalization/csv/mimic2.csv',\n",
       " '/scratch/rc4499/thesis/ood-generalization/csv/chexpert1.csv',\n",
       " '/scratch/rc4499/thesis/ood-generalization/csv/mimic1.csv']"
      ]
     },
     "execution_count": 6,
     "metadata": {},
     "output_type": "execute_result"
    }
   ],
   "source": [
    "csvs = [\n",
    "\"padchest.csv\",\n",
    "\"chestxray8.csv\",\n",
    "\"chexpert3.csv\",\n",
    "\"mimic3.csv\",\n",
    "\"chexpert2.csv\",\n",
    "\"mimic2.csv\",\n",
    "\"chexpert1.csv\",\n",
    "\"mimic1.csv\"]\n",
    "\n",
    "csvs = [\"/scratch/rc4499/thesis/ood-generalization/csv/\" + c for c in csvs]\n",
    "csvs"
   ]
  },
  {
   "cell_type": "code",
   "execution_count": 25,
   "id": "e8d497fe-260e-40f1-b4aa-ccddadaf2a57",
   "metadata": {},
   "outputs": [
    {
     "name": "stdout",
     "output_type": "stream",
     "text": [
      "head/padchest\n",
      "head/chestxray8\n",
      "head/CheXpert-v1.0\n",
      "head/mimic-cxr\n",
      "head/CheXpert-v1.0\n",
      "head/mimic-cxr\n",
      "head/CheXpert-v1.0\n",
      "head/mimic-cxr\n"
     ]
    }
   ],
   "source": [
    "import shutil\n",
    "\n",
    "for c in csvs:\n",
    "    df = pd.read_csv(c)\n",
    "    # Get the root dataset directory\n",
    "    root_dir = \"head/\" + df[\"path\"].iloc[0].split(\"/\")[1]\n",
    "    os.makedirs(root_dir, exist_ok=True)\n",
    "    print(root_dir)\n",
    "    for i, f in df.iterrows():\n",
    "        path = f[\"path\"]\n",
    "        rel_path = \"/\".join(path.split(\"/\")[2:])\n",
    "        # print(rel_path)\n",
    "        orig_path = path\n",
    "        new_path = root_dir + \"/\" + rel_path\n",
    "        new_folder = os.path.dirname(new_path)\n",
    "        os.makedirs(new_folder, exist_ok=True)\n",
    "        shutil.copyfile(orig_path, new_path)\n",
    "        # print(f\"Copying from {orig_path} to {new_path}\")\n"
   ]
  },
  {
   "cell_type": "code",
   "execution_count": 11,
   "id": "ea46d596-ccdc-474c-a0a1-d14751173c2e",
   "metadata": {},
   "outputs": [
    {
     "data": {
      "text/plain": [
       "['', 'padchest', '49602503074420747438297888031645729553_n9jt8a.png']"
      ]
     },
     "execution_count": 11,
     "metadata": {},
     "output_type": "execute_result"
    }
   ],
   "source": []
  },
  {
   "cell_type": "code",
   "execution_count": 26,
   "id": "5c7214fe-f563-4769-8c18-28fa974ebe29",
   "metadata": {},
   "outputs": [],
   "source": [
    "preprocessed = [\n",
    "\"padchest/clinicaldg/preprocessed.csv\",\n",
    "\"chestxray8/clinicaldg/preprocessed.cs\",\n",
    "\"mimic-cxr/clinicaldg/preprocessed.csv\",\n",
    "\"chexpert/clinicaldg/preprocessed.csv\"\n",
    "]\n",
    "\n",
    "preprocessed = [\"/scratch/rc4499/thesis/data/\" + p for p in preprocessed]"
   ]
  },
  {
   "cell_type": "code",
   "execution_count": 28,
   "id": "e192f4f7-a536-4b76-9790-48df8295ed93",
   "metadata": {},
   "outputs": [
    {
     "name": "stdout",
     "output_type": "stream",
     "text": [
      "                                                  ImageID  \\\n",
      "0       20536686640136348236148679891455886468_k6ga29.png   \n",
      "1       135803415504923515076821959678074435083_fzis7d...   \n",
      "2       135803415504923515076821959678074435083_fzis7b...   \n",
      "3       113855343774216031107737439268243531979_3k951l...   \n",
      "4       113855343774216031107737439268243531979_3k951n...   \n",
      "...                                                   ...   \n",
      "144489  1284011361929414522814654121696751542351444145...   \n",
      "144490  1284011361929414522094646571696751542351444145...   \n",
      "144491  1284011361929414522086390631696751542351444145...   \n",
      "144492  1284011361929414522084108901696751542351444145...   \n",
      "144493  1284011361929414524682119191696751542351444145...   \n",
      "\n",
      "                                                  StudyID  \\\n",
      "0                  20536686640136348236148679891455886468   \n",
      "1                 135803415504923515076821959678074435083   \n",
      "2                 135803415504923515076821959678074435083   \n",
      "3                 113855343774216031107737439268243531979   \n",
      "4                 113855343774216031107737439268243531979   \n",
      "...                                                   ...   \n",
      "144489  1284011361929414522814654121696751542351444145...   \n",
      "144490  1284011361929414522094646571696751542351444145...   \n",
      "144491  1284011361929414522086390631696751542351444145...   \n",
      "144492  1284011361929414522084108901696751542351444145...   \n",
      "144493  1284011361929414524682119191696751542351444145...   \n",
      "\n",
      "                                      PatientID  PatientBirth  \\\n",
      "0          839860488694292331637988235681460987        1930.0   \n",
      "1       313572750430997347502932654319389875966        1929.0   \n",
      "2       313572750430997347502932654319389875966        1929.0   \n",
      "3        50783093527901818115346441867348318648        1925.0   \n",
      "4        50783093527901818115346441867348318648        1925.0   \n",
      "...                                         ...           ...   \n",
      "144489  112930952416074060371371014599496493673        1948.0   \n",
      "144490  282743729971423358706056731890510600934        1944.0   \n",
      "144491   52648743308541843883453242716226652771        1965.0   \n",
      "144492  228646130593152933811948996634154201216        1943.0   \n",
      "144493  137424047230303610602080410284588825286        1951.0   \n",
      "\n",
      "       PatientSex_DICOM ViewPosition_DICOM     Projection  \\\n",
      "0                     F    POSTEROANTERIOR             PA   \n",
      "1                     M            LATERAL              L   \n",
      "2                     M    POSTEROANTERIOR             PA   \n",
      "3                     F    POSTEROANTERIOR             PA   \n",
      "4                     F            LATERAL              L   \n",
      "...                 ...                ...            ...   \n",
      "144489                M    POSTEROANTERIOR             PA   \n",
      "144490                F    POSTEROANTERIOR             PA   \n",
      "144491                M                NaN  AP_horizontal   \n",
      "144492                F    POSTEROANTERIOR             PA   \n",
      "144493                M                NaN             PA   \n",
      "\n",
      "                                                   Labels  frontal  \\\n",
      "0                                              ['normal']     True   \n",
      "1       ['pulmonary fibrosis', 'chronic changes', 'kyp...    False   \n",
      "2       ['pulmonary fibrosis', 'chronic changes', 'kyp...     True   \n",
      "3                                     ['chronic changes']     True   \n",
      "4                                     ['chronic changes']    False   \n",
      "...                                                   ...      ...   \n",
      "144489      ['COPD signs', 'costophrenic angle blunting']     True   \n",
      "144490                                         ['normal']     True   \n",
      "144491                 ['NSG tube', ' endotracheal tube']     True   \n",
      "144492                                         ['normal']     True   \n",
      "144493                                      ['pneumonia']     True   \n",
      "\n",
      "        No Finding  Atelectasis  Cardiomegaly  Effusion  Pneumonia  \\\n",
      "0                1            0             0         0          0   \n",
      "1                0            0             0         0          0   \n",
      "2                0            0             0         0          0   \n",
      "3                0            0             0         0          0   \n",
      "4                0            0             0         0          0   \n",
      "...            ...          ...           ...       ...        ...   \n",
      "144489           0            0             0         0          0   \n",
      "144490           1            0             0         0          0   \n",
      "144491           0            0             0         0          0   \n",
      "144492           1            0             0         0          0   \n",
      "144493           0            0             0         0          1   \n",
      "\n",
      "        Pneumothorax  Consolidation  Edema   Age  \n",
      "0                  0              0      0  87.0  \n",
      "1                  0              0      0  88.0  \n",
      "2                  0              0      0  88.0  \n",
      "3                  0              0      0  92.0  \n",
      "4                  0              0      0  92.0  \n",
      "...              ...            ...    ...   ...  \n",
      "144489             0              0      0  69.0  \n",
      "144490             0              0      0  73.0  \n",
      "144491             0              0      0  52.0  \n",
      "144492             0              0      0  74.0  \n",
      "144493             0              0      0  66.0  \n",
      "\n",
      "[144494 rows x 18 columns]\n"
     ]
    },
    {
     "ename": "FileNotFoundError",
     "evalue": "[Errno 2] No such file or directory: '/scratch/rc4499/thesis/data/chestxray8/clinicaldg/preprocessed.cs'",
     "output_type": "error",
     "traceback": [
      "\u001b[0;31m---------------------------------------------------------------------------\u001b[0m",
      "\u001b[0;31mFileNotFoundError\u001b[0m                         Traceback (most recent call last)",
      "Input \u001b[0;32mIn [28]\u001b[0m, in \u001b[0;36m<cell line: 1>\u001b[0;34m()\u001b[0m\n\u001b[1;32m      1\u001b[0m \u001b[38;5;28;01mfor\u001b[39;00m c \u001b[38;5;129;01min\u001b[39;00m preprocessed:\n\u001b[0;32m----> 2\u001b[0m     df \u001b[38;5;241m=\u001b[39m \u001b[43mpd\u001b[49m\u001b[38;5;241;43m.\u001b[39;49m\u001b[43mread_csv\u001b[49m\u001b[43m(\u001b[49m\u001b[43mc\u001b[49m\u001b[43m)\u001b[49m\n\u001b[1;32m      3\u001b[0m     \u001b[38;5;28mprint\u001b[39m(df)\n",
      "File \u001b[0;32m/scratch/rc4499/envs_dirs/thesis/lib/python3.8/site-packages/pandas/util/_decorators.py:311\u001b[0m, in \u001b[0;36mdeprecate_nonkeyword_arguments.<locals>.decorate.<locals>.wrapper\u001b[0;34m(*args, **kwargs)\u001b[0m\n\u001b[1;32m    305\u001b[0m \u001b[38;5;28;01mif\u001b[39;00m \u001b[38;5;28mlen\u001b[39m(args) \u001b[38;5;241m>\u001b[39m num_allow_args:\n\u001b[1;32m    306\u001b[0m     warnings\u001b[38;5;241m.\u001b[39mwarn(\n\u001b[1;32m    307\u001b[0m         msg\u001b[38;5;241m.\u001b[39mformat(arguments\u001b[38;5;241m=\u001b[39marguments),\n\u001b[1;32m    308\u001b[0m         \u001b[38;5;167;01mFutureWarning\u001b[39;00m,\n\u001b[1;32m    309\u001b[0m         stacklevel\u001b[38;5;241m=\u001b[39mstacklevel,\n\u001b[1;32m    310\u001b[0m     )\n\u001b[0;32m--> 311\u001b[0m \u001b[38;5;28;01mreturn\u001b[39;00m \u001b[43mfunc\u001b[49m\u001b[43m(\u001b[49m\u001b[38;5;241;43m*\u001b[39;49m\u001b[43margs\u001b[49m\u001b[43m,\u001b[49m\u001b[43m \u001b[49m\u001b[38;5;241;43m*\u001b[39;49m\u001b[38;5;241;43m*\u001b[39;49m\u001b[43mkwargs\u001b[49m\u001b[43m)\u001b[49m\n",
      "File \u001b[0;32m/scratch/rc4499/envs_dirs/thesis/lib/python3.8/site-packages/pandas/io/parsers/readers.py:680\u001b[0m, in \u001b[0;36mread_csv\u001b[0;34m(filepath_or_buffer, sep, delimiter, header, names, index_col, usecols, squeeze, prefix, mangle_dupe_cols, dtype, engine, converters, true_values, false_values, skipinitialspace, skiprows, skipfooter, nrows, na_values, keep_default_na, na_filter, verbose, skip_blank_lines, parse_dates, infer_datetime_format, keep_date_col, date_parser, dayfirst, cache_dates, iterator, chunksize, compression, thousands, decimal, lineterminator, quotechar, quoting, doublequote, escapechar, comment, encoding, encoding_errors, dialect, error_bad_lines, warn_bad_lines, on_bad_lines, delim_whitespace, low_memory, memory_map, float_precision, storage_options)\u001b[0m\n\u001b[1;32m    665\u001b[0m kwds_defaults \u001b[38;5;241m=\u001b[39m _refine_defaults_read(\n\u001b[1;32m    666\u001b[0m     dialect,\n\u001b[1;32m    667\u001b[0m     delimiter,\n\u001b[0;32m   (...)\u001b[0m\n\u001b[1;32m    676\u001b[0m     defaults\u001b[38;5;241m=\u001b[39m{\u001b[38;5;124m\"\u001b[39m\u001b[38;5;124mdelimiter\u001b[39m\u001b[38;5;124m\"\u001b[39m: \u001b[38;5;124m\"\u001b[39m\u001b[38;5;124m,\u001b[39m\u001b[38;5;124m\"\u001b[39m},\n\u001b[1;32m    677\u001b[0m )\n\u001b[1;32m    678\u001b[0m kwds\u001b[38;5;241m.\u001b[39mupdate(kwds_defaults)\n\u001b[0;32m--> 680\u001b[0m \u001b[38;5;28;01mreturn\u001b[39;00m \u001b[43m_read\u001b[49m\u001b[43m(\u001b[49m\u001b[43mfilepath_or_buffer\u001b[49m\u001b[43m,\u001b[49m\u001b[43m \u001b[49m\u001b[43mkwds\u001b[49m\u001b[43m)\u001b[49m\n",
      "File \u001b[0;32m/scratch/rc4499/envs_dirs/thesis/lib/python3.8/site-packages/pandas/io/parsers/readers.py:575\u001b[0m, in \u001b[0;36m_read\u001b[0;34m(filepath_or_buffer, kwds)\u001b[0m\n\u001b[1;32m    572\u001b[0m _validate_names(kwds\u001b[38;5;241m.\u001b[39mget(\u001b[38;5;124m\"\u001b[39m\u001b[38;5;124mnames\u001b[39m\u001b[38;5;124m\"\u001b[39m, \u001b[38;5;28;01mNone\u001b[39;00m))\n\u001b[1;32m    574\u001b[0m \u001b[38;5;66;03m# Create the parser.\u001b[39;00m\n\u001b[0;32m--> 575\u001b[0m parser \u001b[38;5;241m=\u001b[39m \u001b[43mTextFileReader\u001b[49m\u001b[43m(\u001b[49m\u001b[43mfilepath_or_buffer\u001b[49m\u001b[43m,\u001b[49m\u001b[43m \u001b[49m\u001b[38;5;241;43m*\u001b[39;49m\u001b[38;5;241;43m*\u001b[39;49m\u001b[43mkwds\u001b[49m\u001b[43m)\u001b[49m\n\u001b[1;32m    577\u001b[0m \u001b[38;5;28;01mif\u001b[39;00m chunksize \u001b[38;5;129;01mor\u001b[39;00m iterator:\n\u001b[1;32m    578\u001b[0m     \u001b[38;5;28;01mreturn\u001b[39;00m parser\n",
      "File \u001b[0;32m/scratch/rc4499/envs_dirs/thesis/lib/python3.8/site-packages/pandas/io/parsers/readers.py:933\u001b[0m, in \u001b[0;36mTextFileReader.__init__\u001b[0;34m(self, f, engine, **kwds)\u001b[0m\n\u001b[1;32m    930\u001b[0m     \u001b[38;5;28mself\u001b[39m\u001b[38;5;241m.\u001b[39moptions[\u001b[38;5;124m\"\u001b[39m\u001b[38;5;124mhas_index_names\u001b[39m\u001b[38;5;124m\"\u001b[39m] \u001b[38;5;241m=\u001b[39m kwds[\u001b[38;5;124m\"\u001b[39m\u001b[38;5;124mhas_index_names\u001b[39m\u001b[38;5;124m\"\u001b[39m]\n\u001b[1;32m    932\u001b[0m \u001b[38;5;28mself\u001b[39m\u001b[38;5;241m.\u001b[39mhandles: IOHandles \u001b[38;5;241m|\u001b[39m \u001b[38;5;28;01mNone\u001b[39;00m \u001b[38;5;241m=\u001b[39m \u001b[38;5;28;01mNone\u001b[39;00m\n\u001b[0;32m--> 933\u001b[0m \u001b[38;5;28mself\u001b[39m\u001b[38;5;241m.\u001b[39m_engine \u001b[38;5;241m=\u001b[39m \u001b[38;5;28;43mself\u001b[39;49m\u001b[38;5;241;43m.\u001b[39;49m\u001b[43m_make_engine\u001b[49m\u001b[43m(\u001b[49m\u001b[43mf\u001b[49m\u001b[43m,\u001b[49m\u001b[43m \u001b[49m\u001b[38;5;28;43mself\u001b[39;49m\u001b[38;5;241;43m.\u001b[39;49m\u001b[43mengine\u001b[49m\u001b[43m)\u001b[49m\n",
      "File \u001b[0;32m/scratch/rc4499/envs_dirs/thesis/lib/python3.8/site-packages/pandas/io/parsers/readers.py:1217\u001b[0m, in \u001b[0;36mTextFileReader._make_engine\u001b[0;34m(self, f, engine)\u001b[0m\n\u001b[1;32m   1213\u001b[0m     mode \u001b[38;5;241m=\u001b[39m \u001b[38;5;124m\"\u001b[39m\u001b[38;5;124mrb\u001b[39m\u001b[38;5;124m\"\u001b[39m\n\u001b[1;32m   1214\u001b[0m \u001b[38;5;66;03m# error: No overload variant of \"get_handle\" matches argument types\u001b[39;00m\n\u001b[1;32m   1215\u001b[0m \u001b[38;5;66;03m# \"Union[str, PathLike[str], ReadCsvBuffer[bytes], ReadCsvBuffer[str]]\"\u001b[39;00m\n\u001b[1;32m   1216\u001b[0m \u001b[38;5;66;03m# , \"str\", \"bool\", \"Any\", \"Any\", \"Any\", \"Any\", \"Any\"\u001b[39;00m\n\u001b[0;32m-> 1217\u001b[0m \u001b[38;5;28mself\u001b[39m\u001b[38;5;241m.\u001b[39mhandles \u001b[38;5;241m=\u001b[39m \u001b[43mget_handle\u001b[49m\u001b[43m(\u001b[49m\u001b[43m  \u001b[49m\u001b[38;5;66;43;03m# type: ignore[call-overload]\u001b[39;49;00m\n\u001b[1;32m   1218\u001b[0m \u001b[43m    \u001b[49m\u001b[43mf\u001b[49m\u001b[43m,\u001b[49m\n\u001b[1;32m   1219\u001b[0m \u001b[43m    \u001b[49m\u001b[43mmode\u001b[49m\u001b[43m,\u001b[49m\n\u001b[1;32m   1220\u001b[0m \u001b[43m    \u001b[49m\u001b[43mencoding\u001b[49m\u001b[38;5;241;43m=\u001b[39;49m\u001b[38;5;28;43mself\u001b[39;49m\u001b[38;5;241;43m.\u001b[39;49m\u001b[43moptions\u001b[49m\u001b[38;5;241;43m.\u001b[39;49m\u001b[43mget\u001b[49m\u001b[43m(\u001b[49m\u001b[38;5;124;43m\"\u001b[39;49m\u001b[38;5;124;43mencoding\u001b[39;49m\u001b[38;5;124;43m\"\u001b[39;49m\u001b[43m,\u001b[49m\u001b[43m \u001b[49m\u001b[38;5;28;43;01mNone\u001b[39;49;00m\u001b[43m)\u001b[49m\u001b[43m,\u001b[49m\n\u001b[1;32m   1221\u001b[0m \u001b[43m    \u001b[49m\u001b[43mcompression\u001b[49m\u001b[38;5;241;43m=\u001b[39;49m\u001b[38;5;28;43mself\u001b[39;49m\u001b[38;5;241;43m.\u001b[39;49m\u001b[43moptions\u001b[49m\u001b[38;5;241;43m.\u001b[39;49m\u001b[43mget\u001b[49m\u001b[43m(\u001b[49m\u001b[38;5;124;43m\"\u001b[39;49m\u001b[38;5;124;43mcompression\u001b[39;49m\u001b[38;5;124;43m\"\u001b[39;49m\u001b[43m,\u001b[49m\u001b[43m \u001b[49m\u001b[38;5;28;43;01mNone\u001b[39;49;00m\u001b[43m)\u001b[49m\u001b[43m,\u001b[49m\n\u001b[1;32m   1222\u001b[0m \u001b[43m    \u001b[49m\u001b[43mmemory_map\u001b[49m\u001b[38;5;241;43m=\u001b[39;49m\u001b[38;5;28;43mself\u001b[39;49m\u001b[38;5;241;43m.\u001b[39;49m\u001b[43moptions\u001b[49m\u001b[38;5;241;43m.\u001b[39;49m\u001b[43mget\u001b[49m\u001b[43m(\u001b[49m\u001b[38;5;124;43m\"\u001b[39;49m\u001b[38;5;124;43mmemory_map\u001b[39;49m\u001b[38;5;124;43m\"\u001b[39;49m\u001b[43m,\u001b[49m\u001b[43m \u001b[49m\u001b[38;5;28;43;01mFalse\u001b[39;49;00m\u001b[43m)\u001b[49m\u001b[43m,\u001b[49m\n\u001b[1;32m   1223\u001b[0m \u001b[43m    \u001b[49m\u001b[43mis_text\u001b[49m\u001b[38;5;241;43m=\u001b[39;49m\u001b[43mis_text\u001b[49m\u001b[43m,\u001b[49m\n\u001b[1;32m   1224\u001b[0m \u001b[43m    \u001b[49m\u001b[43merrors\u001b[49m\u001b[38;5;241;43m=\u001b[39;49m\u001b[38;5;28;43mself\u001b[39;49m\u001b[38;5;241;43m.\u001b[39;49m\u001b[43moptions\u001b[49m\u001b[38;5;241;43m.\u001b[39;49m\u001b[43mget\u001b[49m\u001b[43m(\u001b[49m\u001b[38;5;124;43m\"\u001b[39;49m\u001b[38;5;124;43mencoding_errors\u001b[39;49m\u001b[38;5;124;43m\"\u001b[39;49m\u001b[43m,\u001b[49m\u001b[43m \u001b[49m\u001b[38;5;124;43m\"\u001b[39;49m\u001b[38;5;124;43mstrict\u001b[39;49m\u001b[38;5;124;43m\"\u001b[39;49m\u001b[43m)\u001b[49m\u001b[43m,\u001b[49m\n\u001b[1;32m   1225\u001b[0m \u001b[43m    \u001b[49m\u001b[43mstorage_options\u001b[49m\u001b[38;5;241;43m=\u001b[39;49m\u001b[38;5;28;43mself\u001b[39;49m\u001b[38;5;241;43m.\u001b[39;49m\u001b[43moptions\u001b[49m\u001b[38;5;241;43m.\u001b[39;49m\u001b[43mget\u001b[49m\u001b[43m(\u001b[49m\u001b[38;5;124;43m\"\u001b[39;49m\u001b[38;5;124;43mstorage_options\u001b[39;49m\u001b[38;5;124;43m\"\u001b[39;49m\u001b[43m,\u001b[49m\u001b[43m \u001b[49m\u001b[38;5;28;43;01mNone\u001b[39;49;00m\u001b[43m)\u001b[49m\u001b[43m,\u001b[49m\n\u001b[1;32m   1226\u001b[0m \u001b[43m\u001b[49m\u001b[43m)\u001b[49m\n\u001b[1;32m   1227\u001b[0m \u001b[38;5;28;01massert\u001b[39;00m \u001b[38;5;28mself\u001b[39m\u001b[38;5;241m.\u001b[39mhandles \u001b[38;5;129;01mis\u001b[39;00m \u001b[38;5;129;01mnot\u001b[39;00m \u001b[38;5;28;01mNone\u001b[39;00m\n\u001b[1;32m   1228\u001b[0m f \u001b[38;5;241m=\u001b[39m \u001b[38;5;28mself\u001b[39m\u001b[38;5;241m.\u001b[39mhandles\u001b[38;5;241m.\u001b[39mhandle\n",
      "File \u001b[0;32m/scratch/rc4499/envs_dirs/thesis/lib/python3.8/site-packages/pandas/io/common.py:789\u001b[0m, in \u001b[0;36mget_handle\u001b[0;34m(path_or_buf, mode, encoding, compression, memory_map, is_text, errors, storage_options)\u001b[0m\n\u001b[1;32m    784\u001b[0m \u001b[38;5;28;01melif\u001b[39;00m \u001b[38;5;28misinstance\u001b[39m(handle, \u001b[38;5;28mstr\u001b[39m):\n\u001b[1;32m    785\u001b[0m     \u001b[38;5;66;03m# Check whether the filename is to be opened in binary mode.\u001b[39;00m\n\u001b[1;32m    786\u001b[0m     \u001b[38;5;66;03m# Binary mode does not support 'encoding' and 'newline'.\u001b[39;00m\n\u001b[1;32m    787\u001b[0m     \u001b[38;5;28;01mif\u001b[39;00m ioargs\u001b[38;5;241m.\u001b[39mencoding \u001b[38;5;129;01mand\u001b[39;00m \u001b[38;5;124m\"\u001b[39m\u001b[38;5;124mb\u001b[39m\u001b[38;5;124m\"\u001b[39m \u001b[38;5;129;01mnot\u001b[39;00m \u001b[38;5;129;01min\u001b[39;00m ioargs\u001b[38;5;241m.\u001b[39mmode:\n\u001b[1;32m    788\u001b[0m         \u001b[38;5;66;03m# Encoding\u001b[39;00m\n\u001b[0;32m--> 789\u001b[0m         handle \u001b[38;5;241m=\u001b[39m \u001b[38;5;28;43mopen\u001b[39;49m\u001b[43m(\u001b[49m\n\u001b[1;32m    790\u001b[0m \u001b[43m            \u001b[49m\u001b[43mhandle\u001b[49m\u001b[43m,\u001b[49m\n\u001b[1;32m    791\u001b[0m \u001b[43m            \u001b[49m\u001b[43mioargs\u001b[49m\u001b[38;5;241;43m.\u001b[39;49m\u001b[43mmode\u001b[49m\u001b[43m,\u001b[49m\n\u001b[1;32m    792\u001b[0m \u001b[43m            \u001b[49m\u001b[43mencoding\u001b[49m\u001b[38;5;241;43m=\u001b[39;49m\u001b[43mioargs\u001b[49m\u001b[38;5;241;43m.\u001b[39;49m\u001b[43mencoding\u001b[49m\u001b[43m,\u001b[49m\n\u001b[1;32m    793\u001b[0m \u001b[43m            \u001b[49m\u001b[43merrors\u001b[49m\u001b[38;5;241;43m=\u001b[39;49m\u001b[43merrors\u001b[49m\u001b[43m,\u001b[49m\n\u001b[1;32m    794\u001b[0m \u001b[43m            \u001b[49m\u001b[43mnewline\u001b[49m\u001b[38;5;241;43m=\u001b[39;49m\u001b[38;5;124;43m\"\u001b[39;49m\u001b[38;5;124;43m\"\u001b[39;49m\u001b[43m,\u001b[49m\n\u001b[1;32m    795\u001b[0m \u001b[43m        \u001b[49m\u001b[43m)\u001b[49m\n\u001b[1;32m    796\u001b[0m     \u001b[38;5;28;01melse\u001b[39;00m:\n\u001b[1;32m    797\u001b[0m         \u001b[38;5;66;03m# Binary mode\u001b[39;00m\n\u001b[1;32m    798\u001b[0m         handle \u001b[38;5;241m=\u001b[39m \u001b[38;5;28mopen\u001b[39m(handle, ioargs\u001b[38;5;241m.\u001b[39mmode)\n",
      "\u001b[0;31mFileNotFoundError\u001b[0m: [Errno 2] No such file or directory: '/scratch/rc4499/thesis/data/chestxray8/clinicaldg/preprocessed.cs'"
     ]
    }
   ],
   "source": [
    "# for c in preprocessed:\n",
    "#     df = pd.read_csv(c)\n",
    "#     print(df)\n",
    "    # df[\"path\"] = \"/scratch/rc4499/thesis/ood-generalization/head\" + df[\"path\"]\n",
    "    # df.to_csv(os.path.dirname(c) + \"preprocessed_head.csv\", index=False)"
   ]
  },
  {
   "cell_type": "code",
   "execution_count": null,
   "id": "323cc4bb-6f85-46a5-8b49-cd0b00ea7e75",
   "metadata": {},
   "outputs": [],
   "source": []
  }
 ],
 "metadata": {
  "kernelspec": {
   "display_name": "Python 3",
   "language": "python",
   "name": "python3"
  },
  "language_info": {
   "codemirror_mode": {
    "name": "ipython",
    "version": 3
   },
   "file_extension": ".py",
   "mimetype": "text/x-python",
   "name": "python",
   "nbconvert_exporter": "python",
   "pygments_lexer": "ipython3",
   "version": "3.8.12"
  }
 },
 "nbformat": 4,
 "nbformat_minor": 5
}
